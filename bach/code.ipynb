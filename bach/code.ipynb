{
 "cells": [
  {
   "cell_type": "code",
   "execution_count": 45,
   "metadata": {},
   "outputs": [],
   "source": [
    "import pandas as pd\n",
    "from utils import write_jsonl\n",
    "import re\n",
    "\n",
    "\n"
   ]
  },
  {
   "cell_type": "code",
   "execution_count": 46,
   "metadata": {},
   "outputs": [],
   "source": [
    "df = pd.read_json('it_jobs.jsonl', lines=True)"
   ]
  },
  {
   "cell_type": "code",
   "execution_count": 47,
   "metadata": {},
   "outputs": [
    {
     "name": "stdout",
     "output_type": "stream",
     "text": [
      "Công Nghệ Thông Tin/Viễn Thông > System/Cloud/DevOps Engineer\n",
      "Công Nghệ Thông Tin/Viễn Thông > UX/UI Design\n",
      "IT Phần cứng - mạng\n",
      "Công Nghệ Thông Tin/Viễn Thông > Data Engineer/Data Analyst/AI\n",
      "Công Nghệ Thông Tin/Viễn Thông > Quản Lý Công Nghệ Thông Tin\n",
      "IT Phần cứng / Mạng\n",
      "IT Phần mềm\n",
      "Công Nghệ Thông Tin/Viễn Thông > Viễn Thông\n",
      "Công Nghệ Thông Tin/Viễn Thông > Phần Cứng Máy Tính\n",
      "IT Phần cứng - Mạng\n",
      "Việc làm IT\n",
      "Công Nghệ Thông Tin/Viễn Thông > Chuyển Đổi Số\n",
      "Công Nghệ Thông Tin/Viễn Thông > Bảo Mật Công Nghệ Thông Tin\n",
      "IT Phần mềm/\n",
      "Công Nghệ Thông Tin/Viễn Thông > IT Support/Help Desk\n",
      "Copywriter\n",
      "Công nghệ thông tin\n",
      "Công Nghệ Thông Tin/Viễn Thông > Quản Trị Cơ Sở Dữ Liệu\n",
      "Công Nghệ Thông Tin/Viễn Thông > QA/QC/Software Testing\n",
      "IT Phần cứng - Mạng/\n",
      "Công Nghệ Thông Tin/Viễn Thông > Phân Tích Kinh Doanh/Phân Tích Hệ Thống\n",
      "Công Nghệ Thông Tin/Viễn Thông > Quản Lý Dự Án Công Nghệ\n",
      "IT phần mềm\n",
      "Công Nghệ Thông Tin/Viễn Thông > Phần Mềm Máy Tính\n"
     ]
    }
   ],
   "source": [
    "cats = df[df['category'].notna()]\n",
    "cats = cats['category'].tolist()\n",
    "cats1 = []\n",
    "for cat in cats:\n",
    "    if isinstance(cat, list):\n",
    "        cats1.extend(cat)\n",
    "    elif isinstance(cat, str):\n",
    "        cats1.append(cat)\n",
    "cats = list(set(cats1))\n",
    "it_terms = ['công nghệ thông tin', \"it phần cứng\", \"it phần mềm\", \"it\"]\n",
    "re_pattern = '|'.join(it_terms)\n",
    "cats = [c for c in cats if re.search(re_pattern, c, re.IGNORECASE)]\n",
    "print(\"\\n\".join(cats))"
   ]
  },
  {
   "cell_type": "code",
   "execution_count": 29,
   "metadata": {},
   "outputs": [
    {
     "name": "stdout",
     "output_type": "stream",
     "text": [
      "Công Nghệ Thông Tin/Viễn Thông > System/Cloud/DevOps Engineer\n",
      "Công Nghệ Thông Tin/Viễn Thông > UX/UI Design\n",
      "IT Phần cứng - mạng\n",
      "Công Nghệ Thông Tin/Viễn Thông > Data Engineer/Data Analyst/AI\n",
      "Công Nghệ Thông Tin/Viễn Thông > Quản Lý Công Nghệ Thông Tin\n",
      "IT Phần cứng / Mạng\n",
      "IT Phần mềm\n",
      "Công Nghệ Thông Tin/Viễn Thông > Viễn Thông\n",
      "Công Nghệ Thông Tin/Viễn Thông > Phần Cứng Máy Tính\n",
      "IT Phần cứng - Mạng\n",
      "Việc làm IT\n",
      "Công Nghệ Thông Tin/Viễn Thông > Chuyển Đổi Số\n",
      "Công Nghệ Thông Tin/Viễn Thông > Bảo Mật Công Nghệ Thông Tin\n",
      "IT Phần mềm/\n",
      "Công Nghệ Thông Tin/Viễn Thông > IT Support/Help Desk\n",
      "Copywriter\n",
      "Công nghệ thông tin\n",
      "Công Nghệ Thông Tin/Viễn Thông > Quản Trị Cơ Sở Dữ Liệu\n",
      "Công Nghệ Thông Tin/Viễn Thông > QA/QC/Software Testing\n",
      "IT Phần cứng - Mạng/\n",
      "Công Nghệ Thông Tin/Viễn Thông > Phân Tích Kinh Doanh/Phân Tích Hệ Thống\n",
      "Công Nghệ Thông Tin/Viễn Thông > Quản Lý Dự Án Công Nghệ\n",
      "IT phần mềm\n",
      "Công Nghệ Thông Tin/Viễn Thông > Phần Mềm Máy Tính\n"
     ]
    }
   ],
   "source": [
    "\n",
    "\n",
    "it_terms = ['công nghệ thông tin', \"it phần cứng\", \"it phần mềm\", \"it\"]\n",
    "re_pattern = '|'.join(it_terms)\n",
    "cats = [c for c in cats if re.search(re_pattern, c, re.IGNORECASE)]\n",
    "print(\"\\n\".join(cats))"
   ]
  },
  {
   "cell_type": "code",
   "execution_count": 49,
   "metadata": {},
   "outputs": [
    {
     "name": "stdout",
     "output_type": "stream",
     "text": [
      "system/cloud/devops engineer\n",
      "ux/ui design\n",
      "it phần cứng - mạng\n",
      "data engineer/data analyst/ai\n",
      "quản lý công nghệ thông tin\n",
      "it phần cứng / mạng\n",
      "it phần mềm\n",
      "viễn thông\n",
      "phần cứng máy tính\n",
      "it phần cứng - mạng\n",
      "việc làm it\n",
      "chuyển đổi số\n",
      "bảo mật công nghệ thông tin\n",
      "it phần mềm/\n",
      "it support/help desk\n",
      "công nghệ thông tin\n",
      "quản trị cơ sở dữ liệu\n",
      "qa/qc/software testing\n",
      "it phần cứng - mạng/\n",
      "phân tích kinh doanh/phân tích hệ thống\n",
      "quản lý dự án công nghệ\n",
      "it phần mềm\n",
      "phần mềm máy tính\n"
     ]
    }
   ],
   "source": [
    "with open(\"it_jobs_raw.txt\", \"r\") as f:\n",
    "    it_jobs = f.readlines()\n",
    "    it_jobs = [j.strip() for j in it_jobs]\n",
    "    it_jobs = [j.lower() for j in it_jobs]\n",
    "print(\"\\n\".join(it_jobs))"
   ]
  }
 ],
 "metadata": {
  "kernelspec": {
   "display_name": "nlp",
   "language": "python",
   "name": "python3"
  },
  "language_info": {
   "codemirror_mode": {
    "name": "ipython",
    "version": 3
   },
   "file_extension": ".py",
   "mimetype": "text/x-python",
   "name": "python",
   "nbconvert_exporter": "python",
   "pygments_lexer": "ipython3",
   "version": "3.11.4"
  }
 },
 "nbformat": 4,
 "nbformat_minor": 2
}
