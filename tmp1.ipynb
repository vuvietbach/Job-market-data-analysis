{
 "cells": [
  {
   "cell_type": "code",
   "execution_count": null,
   "metadata": {},
   "outputs": [],
   "source": [
    "%load_ext autoreload\n",
    "%autoreload 2\n",
    "import utils\n",
    "import re\n",
    "posts = utils.read_jsonl(\"normalized_data/it_jobs.jsonl\")\n",
    "print(len(posts))"
   ]
  },
  {
   "cell_type": "code",
   "execution_count": null,
   "metadata": {},
   "outputs": [],
   "source": [
    "\n",
    "kws = ['cloud', 'devops', 'system', 'data', 'ai', 'software', 'hardware', 'developer']\n",
    "nan_posts = []\n",
    "for post in posts:\n",
    "    if 'category' not in post or utils.is_nan(post['category']):\n",
    "        nan_posts.append(post)\n",
    "posts1 = []\n",
    "for post in nan_posts:\n",
    "    ok = False\n",
    "    for kw in kws:\n",
    "        if re.search(kw, post['job'], re.IGNORECASE):\n",
    "            ok=True\n",
    "            break\n",
    "    if not ok:\n",
    "        posts1.append(post)\n",
    "for post in posts1:\n",
    "    print(post['job'])"
   ]
  },
  {
   "cell_type": "code",
   "execution_count": null,
   "metadata": {},
   "outputs": [],
   "source": []
  }
 ],
 "metadata": {
  "language_info": {
   "name": "python"
  }
 },
 "nbformat": 4,
 "nbformat_minor": 2
}
