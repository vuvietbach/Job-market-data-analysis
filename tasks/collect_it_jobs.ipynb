{
 "cells": [
  {
   "cell_type": "code",
   "execution_count": 66,
   "metadata": {},
   "outputs": [],
   "source": [
    "import pandas as pd\n",
    "import numpy as np"
   ]
  },
  {
   "cell_type": "code",
   "execution_count": 79,
   "metadata": {},
   "outputs": [],
   "source": [
    "def filter_it_jobs():\n",
    "    # read from vnw, timviec365, vieclam24h\n",
    "    # output it jobs\n",
    "    df = pd.read_json('data/full.jsonl', lines=True)\n",
    "    df['category1'] = df['category'].apply(lambda x: (\"\".join(x)).lower())\n",
    "    it_category = ['it phần cứng', 'it phần mềm', 'công nghệ thông tin', 'it support']\n",
    "    df = df[np.any([df['category1'].str.contains(cat) for cat in it_category], axis=0)]\n",
    "    df.drop(columns=['category1'], inplace=True)\n",
    "    df.reset_index(inplace=True)\n",
    "    return df"
   ]
  },
  {
   "cell_type": "code",
   "execution_count": 92,
   "metadata": {},
   "outputs": [],
   "source": [
    "from utils import read_jsonl, write_jsonl\n",
    "\n",
    "\n",
    "df = filter_it_jobs()\n",
    "l1 = df.to_dict('records')\n",
    "for i in l1:\n",
    "    i.pop('index')\n",
    "l1 += read_jsonl('data/itviec_it.jsonl')\n",
    "l1 += read_jsonl('data/topcv_it.jsonl')\n",
    "write_jsonl('data/it_jobs.jsonl', l1)   "
   ]
  },
  {
   "cell_type": "code",
   "execution_count": null,
   "metadata": {},
   "outputs": [],
   "source": []
  }
 ],
 "metadata": {
  "kernelspec": {
   "display_name": "nlp",
   "language": "python",
   "name": "python3"
  },
  "language_info": {
   "codemirror_mode": {
    "name": "ipython",
    "version": 3
   },
   "file_extension": ".py",
   "mimetype": "text/x-python",
   "name": "python",
   "nbconvert_exporter": "python",
   "pygments_lexer": "ipython3",
   "version": "3.11.4"
  }
 },
 "nbformat": 4,
 "nbformat_minor": 2
}
