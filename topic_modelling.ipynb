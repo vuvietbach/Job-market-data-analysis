{
 "cells": [
  {
   "cell_type": "code",
   "execution_count": 1,
   "metadata": {},
   "outputs": [],
   "source": [
    "%load_ext autoreload\n",
    "%autoreload 2"
   ]
  },
  {
   "cell_type": "code",
   "execution_count": 2,
   "metadata": {},
   "outputs": [
    {
     "name": "stderr",
     "output_type": "stream",
     "text": [
      "2023-12-18 02:18:36.203981: I tensorflow/core/util/port.cc:110] oneDNN custom operations are on. You may see slightly different numerical results due to floating-point round-off errors from different computation orders. To turn them off, set the environment variable `TF_ENABLE_ONEDNN_OPTS=0`.\n",
      "2023-12-18 02:18:36.206030: I tensorflow/tsl/cuda/cudart_stub.cc:28] Could not find cuda drivers on your machine, GPU will not be used.\n",
      "2023-12-18 02:18:36.247580: I tensorflow/tsl/cuda/cudart_stub.cc:28] Could not find cuda drivers on your machine, GPU will not be used.\n",
      "2023-12-18 02:18:36.248416: I tensorflow/core/platform/cpu_feature_guard.cc:182] This TensorFlow binary is optimized to use available CPU instructions in performance-critical operations.\n",
      "To enable the following instructions: AVX2 AVX512F AVX512_VNNI FMA, in other operations, rebuild TensorFlow with the appropriate compiler flags.\n",
      "2023-12-18 02:18:36.918375: W tensorflow/compiler/tf2tensorrt/utils/py_utils.cc:38] TF-TRT Warning: Could not find TensorRT\n"
     ]
    }
   ],
   "source": [
    "from bertopic import BERTopic\n",
    "import utils\n",
    "import json\n",
    "from collections import Counter\n"
   ]
  },
  {
   "cell_type": "code",
   "execution_count": 3,
   "metadata": {},
   "outputs": [],
   "source": [
    "topic_info = utils.read_jsonl(\"topic_info.jsonl\")"
   ]
  },
  {
   "cell_type": "code",
   "execution_count": 32,
   "metadata": {},
   "outputs": [],
   "source": [
    "job_type_id = 8\n",
    "# compute job_posts\n",
    "job_posts = {}\n",
    "posts = utils.read_jsonl(\"normalized_data/it_jobs.jsonl\")\n",
    "jobs = utils.read_it_jobs_txt(\"normalized_data/it_jobs.txt\")\n",
    "for i, job in enumerate(jobs):\n",
    "    _, post_ids = utils.get_jobs_by_type(posts, job, return_id=True)\n",
    "    job_posts[i] = post_ids\n",
    "\n",
    "# compute post_docs\n",
    "_, post_ids = utils.get_requirements(posts, return_post_id=True)\n",
    "post_docs = {}\n",
    "for i, id in enumerate(post_ids):\n",
    "    if id not in post_docs:\n",
    "        post_docs[id] = []\n",
    "    post_docs[id].append(i)\n",
    "\n",
    "# compute doc_topic\n",
    "with open(\"topics.json\", 'r') as f:\n",
    "    doc_topic = json.load(f)\n",
    "\n",
    "job_topics = utils.get_topics_by_job_type(id=job_type_id, job_posts=job_posts, post_docs=post_docs, doc_topic=doc_topic)\n"
   ]
  },
  {
   "cell_type": "code",
   "execution_count": 33,
   "metadata": {},
   "outputs": [
    {
     "name": "stdout",
     "output_type": "stream",
     "text": [
      "['bảo mật công nghệ thông tin']\n"
     ]
    }
   ],
   "source": [
    "job_topics1 = utils.filter_topics(job_topics)\n",
    "topic_info1 = [topic_info[i['id']+1] for i in job_topics1]\n",
    "print(jobs[job_type_id])    \n",
    "# for i in topic_info1:\n",
    "#     print(i)"
   ]
  },
  {
   "cell_type": "code",
   "execution_count": 34,
   "metadata": {},
   "outputs": [
    {
     "name": "stdout",
     "output_type": "stream",
     "text": [
      "Microservices Architecture Experience\n",
      "Monitoring Tools and Log Analysis\n",
      "Effective teamwork skills\n",
      "Meeting Tight Deadlines Under Pressure\n",
      "Frontend JavaScript Frameworks\n",
      "Kinh nghiệm yêu cầu\n",
      "\"Logical thinking skills\"\n",
      "\"Independent and Resilient under Pressure\"\n",
      "Writing Skills\n",
      "Problem-solving Skills\n",
      "diverse cultural teambuilding activities\n",
      "Microsoft Azure administrator certifications\n",
      "Leadership Experience with Team Management\n",
      "Risk analysis and attt monitoring\n",
      "Network System Knowledge\n",
      "System Quality Assurance\n",
      "Priority of CCNA MCSA certificates\n",
      "Database Design and Optimization\n",
      "Team Player Skills\n",
      "yêu cầu ưu tiên và bằng cấp\n",
      "Networking and Routing Protocols\n",
      "Recruitment Application Process\n",
      "Project Management for Stakeholder Alignment\n",
      "Electronics and Telecommunications Information Technology\n",
      "Security Best Practices Compliance\n",
      "IT Security Experience\n",
      "Network Security Analysis\n",
      "Information Systems Security Certification\n",
      "Financial Banking Experience\n",
      "Security Best Practices and Ethical Hacking\n"
     ]
    }
   ],
   "source": [
    "for i in topic_info1:\n",
    "    print(i['gpt'][0])"
   ]
  }
 ],
 "metadata": {
  "kernelspec": {
   "display_name": "nlp",
   "language": "python",
   "name": "python3"
  },
  "language_info": {
   "codemirror_mode": {
    "name": "ipython",
    "version": 3
   },
   "file_extension": ".py",
   "mimetype": "text/x-python",
   "name": "python",
   "nbconvert_exporter": "python",
   "pygments_lexer": "ipython3",
   "version": "3.11.4"
  }
 },
 "nbformat": 4,
 "nbformat_minor": 2
}
